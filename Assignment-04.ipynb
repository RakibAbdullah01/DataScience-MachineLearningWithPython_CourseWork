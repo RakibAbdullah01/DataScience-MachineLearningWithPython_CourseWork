{
 "cells": [
  {
   "cell_type": "raw",
   "id": "831ad167-4491-4122-af91-d14a63b93b26",
   "metadata": {},
   "source": [
    "Task 01"
   ]
  },
  {
   "cell_type": "code",
   "execution_count": 17,
   "id": "74e5ba57-9bc7-4a13-a5eb-912b7f682452",
   "metadata": {},
   "outputs": [],
   "source": [
    "import pandas as pd\n",
    "from sklearn.linear_model import LinearRegression\n",
    "import numpy as np\n",
    "from sklearn.metrics import mean_squared_error, mean_absolute_error"
   ]
  },
  {
   "cell_type": "code",
   "execution_count": 18,
   "id": "0663ba84-a069-48c2-ae20-1de65c18af87",
   "metadata": {},
   "outputs": [],
   "source": [
    "# Step 1: Load the dataset\n",
    "df = pd.read_csv('vegetable_prices.csv')"
   ]
  },
  {
   "cell_type": "code",
   "execution_count": 19,
   "id": "b17431a8-736c-43a5-8a04-e950d26a292d",
   "metadata": {},
   "outputs": [],
   "source": [
    "# Step 2: Perform linear regression\n",
    "# Assuming the CSV has columns 'Weight' and 'Price'\n",
    "X = df[['Weight']]  # Predictor variable\n",
    "y = df['Price']     # Response variable"
   ]
  },
  {
   "cell_type": "code",
   "execution_count": 20,
   "id": "01ee1833-a37e-41e4-af99-0bbf62b2f547",
   "metadata": {},
   "outputs": [],
   "source": [
    "# Create a linear regression model\n",
    "model = LinearRegression()"
   ]
  },
  {
   "cell_type": "code",
   "execution_count": 21,
   "id": "0e94af30-3703-418a-91f3-71cdc863fea1",
   "metadata": {},
   "outputs": [
    {
     "data": {
      "text/html": [
       "<style>#sk-container-id-3 {color: black;}#sk-container-id-3 pre{padding: 0;}#sk-container-id-3 div.sk-toggleable {background-color: white;}#sk-container-id-3 label.sk-toggleable__label {cursor: pointer;display: block;width: 100%;margin-bottom: 0;padding: 0.3em;box-sizing: border-box;text-align: center;}#sk-container-id-3 label.sk-toggleable__label-arrow:before {content: \"▸\";float: left;margin-right: 0.25em;color: #696969;}#sk-container-id-3 label.sk-toggleable__label-arrow:hover:before {color: black;}#sk-container-id-3 div.sk-estimator:hover label.sk-toggleable__label-arrow:before {color: black;}#sk-container-id-3 div.sk-toggleable__content {max-height: 0;max-width: 0;overflow: hidden;text-align: left;background-color: #f0f8ff;}#sk-container-id-3 div.sk-toggleable__content pre {margin: 0.2em;color: black;border-radius: 0.25em;background-color: #f0f8ff;}#sk-container-id-3 input.sk-toggleable__control:checked~div.sk-toggleable__content {max-height: 200px;max-width: 100%;overflow: auto;}#sk-container-id-3 input.sk-toggleable__control:checked~label.sk-toggleable__label-arrow:before {content: \"▾\";}#sk-container-id-3 div.sk-estimator input.sk-toggleable__control:checked~label.sk-toggleable__label {background-color: #d4ebff;}#sk-container-id-3 div.sk-label input.sk-toggleable__control:checked~label.sk-toggleable__label {background-color: #d4ebff;}#sk-container-id-3 input.sk-hidden--visually {border: 0;clip: rect(1px 1px 1px 1px);clip: rect(1px, 1px, 1px, 1px);height: 1px;margin: -1px;overflow: hidden;padding: 0;position: absolute;width: 1px;}#sk-container-id-3 div.sk-estimator {font-family: monospace;background-color: #f0f8ff;border: 1px dotted black;border-radius: 0.25em;box-sizing: border-box;margin-bottom: 0.5em;}#sk-container-id-3 div.sk-estimator:hover {background-color: #d4ebff;}#sk-container-id-3 div.sk-parallel-item::after {content: \"\";width: 100%;border-bottom: 1px solid gray;flex-grow: 1;}#sk-container-id-3 div.sk-label:hover label.sk-toggleable__label {background-color: #d4ebff;}#sk-container-id-3 div.sk-serial::before {content: \"\";position: absolute;border-left: 1px solid gray;box-sizing: border-box;top: 0;bottom: 0;left: 50%;z-index: 0;}#sk-container-id-3 div.sk-serial {display: flex;flex-direction: column;align-items: center;background-color: white;padding-right: 0.2em;padding-left: 0.2em;position: relative;}#sk-container-id-3 div.sk-item {position: relative;z-index: 1;}#sk-container-id-3 div.sk-parallel {display: flex;align-items: stretch;justify-content: center;background-color: white;position: relative;}#sk-container-id-3 div.sk-item::before, #sk-container-id-3 div.sk-parallel-item::before {content: \"\";position: absolute;border-left: 1px solid gray;box-sizing: border-box;top: 0;bottom: 0;left: 50%;z-index: -1;}#sk-container-id-3 div.sk-parallel-item {display: flex;flex-direction: column;z-index: 1;position: relative;background-color: white;}#sk-container-id-3 div.sk-parallel-item:first-child::after {align-self: flex-end;width: 50%;}#sk-container-id-3 div.sk-parallel-item:last-child::after {align-self: flex-start;width: 50%;}#sk-container-id-3 div.sk-parallel-item:only-child::after {width: 0;}#sk-container-id-3 div.sk-dashed-wrapped {border: 1px dashed gray;margin: 0 0.4em 0.5em 0.4em;box-sizing: border-box;padding-bottom: 0.4em;background-color: white;}#sk-container-id-3 div.sk-label label {font-family: monospace;font-weight: bold;display: inline-block;line-height: 1.2em;}#sk-container-id-3 div.sk-label-container {text-align: center;}#sk-container-id-3 div.sk-container {/* jupyter's `normalize.less` sets `[hidden] { display: none; }` but bootstrap.min.css set `[hidden] { display: none !important; }` so we also need the `!important` here to be able to override the default hidden behavior on the sphinx rendered scikit-learn.org. See: https://github.com/scikit-learn/scikit-learn/issues/21755 */display: inline-block !important;position: relative;}#sk-container-id-3 div.sk-text-repr-fallback {display: none;}</style><div id=\"sk-container-id-3\" class=\"sk-top-container\"><div class=\"sk-text-repr-fallback\"><pre>LinearRegression()</pre><b>In a Jupyter environment, please rerun this cell to show the HTML representation or trust the notebook. <br />On GitHub, the HTML representation is unable to render, please try loading this page with nbviewer.org.</b></div><div class=\"sk-container\" hidden><div class=\"sk-item\"><div class=\"sk-estimator sk-toggleable\"><input class=\"sk-toggleable__control sk-hidden--visually\" id=\"sk-estimator-id-3\" type=\"checkbox\" checked><label for=\"sk-estimator-id-3\" class=\"sk-toggleable__label sk-toggleable__label-arrow\">LinearRegression</label><div class=\"sk-toggleable__content\"><pre>LinearRegression()</pre></div></div></div></div></div>"
      ],
      "text/plain": [
       "LinearRegression()"
      ]
     },
     "execution_count": 21,
     "metadata": {},
     "output_type": "execute_result"
    }
   ],
   "source": [
    "# Fit the model to the data\n",
    "model.fit(X, y)"
   ]
  },
  {
   "cell_type": "code",
   "execution_count": 22,
   "id": "184de61b-2d30-4846-af46-1a417c029a8e",
   "metadata": {},
   "outputs": [
    {
     "name": "stdout",
     "output_type": "stream",
     "text": [
      "The predicted price for a vegetable weight of 6 is approximately $50.89\n"
     ]
    },
    {
     "name": "stderr",
     "output_type": "stream",
     "text": [
      "C:\\Users\\Rakib\\anaconda3\\Lib\\site-packages\\sklearn\\base.py:464: UserWarning: X does not have valid feature names, but LinearRegression was fitted with feature names\n",
      "  warnings.warn(\n"
     ]
    }
   ],
   "source": [
    "# Step 3: Predict the price at weight = 6\n",
    "weight_to_predict = np.array([[6]])  # Needs to be 2D for sklearn\n",
    "predicted_price = model.predict(weight_to_predict)\n",
    "\n",
    "print(f'The predicted price for a vegetable weight of 6 is approximately ${predicted_price[0]:.2f}')"
   ]
  },
  {
   "cell_type": "markdown",
   "id": "fe3eaaa2-d7b2-4725-a8ce-445e168734b3",
   "metadata": {},
   "source": [
    "Task 02"
   ]
  },
  {
   "cell_type": "code",
   "execution_count": 23,
   "id": "184c60e1-13e5-4957-90d6-48288f7f6a4d",
   "metadata": {},
   "outputs": [],
   "source": [
    "# Predict prices for the observed weights\n",
    "predicted_prices = model.predict(X)"
   ]
  },
  {
   "cell_type": "code",
   "execution_count": 24,
   "id": "976851f8-18c9-427f-9ba1-36c4e95e9d75",
   "metadata": {},
   "outputs": [],
   "source": [
    "# Calculate residuals (actual - predicted)\n",
    "df['Predicted Price'] = predicted_prices\n",
    "df['Residual'] = df['Price'] - df['Predicted Price']"
   ]
  },
  {
   "cell_type": "code",
   "execution_count": 25,
   "id": "d4b832e4-1c2c-48fa-a7c5-21c274bca569",
   "metadata": {},
   "outputs": [
    {
     "name": "stdout",
     "output_type": "stream",
     "text": [
      "   Weight  Price  Predicted Price   Residual\n",
      "0       2     35        40.403226  -5.403226\n",
      "1       4     60        45.645161  14.354839\n",
      "2       5     20        48.266129 -28.266129\n",
      "3       3     50        43.024194   6.975806\n",
      "4       6     50        50.887097  -0.887097\n",
      "5       5     55        48.266129   6.733871\n",
      "6       7     60        53.508065   6.491935\n"
     ]
    }
   ],
   "source": [
    "# Display the original data, predicted prices, and residuals\n",
    "print(df[['Weight', 'Price', 'Predicted Price', 'Residual']])"
   ]
  },
  {
   "cell_type": "code",
   "execution_count": 26,
   "id": "c8ec06d5-68f3-4323-bbbe-5cfb72312b1d",
   "metadata": {},
   "outputs": [
    {
     "data": {
      "image/png": "[encoded data removed]",
      "text/plain": [
       "<Figure size 640x480 with 1 Axes>"
      ]
     },
     "metadata": {},
     "output_type": "display_data"
    }
   ],
   "source": [
    "# Optionally, if you want to visualize the residuals, you can use matplotlib:\n",
    "import matplotlib.pyplot as plt\n",
    "\n",
    "plt.scatter(df['Weight'], df['Residual'])\n",
    "plt.axhline(y=0, color='r', linestyle='-')\n",
    "plt.xlabel('Weight')\n",
    "plt.ylabel('Residual')\n",
    "plt.title('Residuals of Predicted Prices')\n",
    "plt.show()"
   ]
  },
  {
   "cell_type": "markdown",
   "id": "4d84eda8-15d0-4b71-a546-9fc43115b949",
   "metadata": {},
   "source": [
    "Task 03"
   ]
  },
  {
   "cell_type": "code",
   "execution_count": 27,
   "id": "8a88789c-1a97-4a4a-a057-c54c720f0a97",
   "metadata": {},
   "outputs": [],
   "source": [
    "# Calculate Mean Absolute Error (MAE) and Mean Squared Error (MSE)\n",
    "mae = mean_absolute_error(y, predicted_prices)\n",
    "mse = mean_squared_error(y, predicted_prices)"
   ]
  },
  {
   "cell_type": "code",
   "execution_count": 28,
   "id": "cee1a5db-b276-4470-bb71-d4dec69b38a1",
   "metadata": {},
   "outputs": [
    {
     "name": "stdout",
     "output_type": "stream",
     "text": [
      "Mean Absolute Error (MAE): 9.87\n",
      "Mean Squared Error (MSE): 167.31\n"
     ]
    }
   ],
   "source": [
    "print(f\"Mean Absolute Error (MAE): {mae:.2f}\")\n",
    "print(f\"Mean Squared Error (MSE): {mse:.2f}\")"
   ]
  },
  {
   "cell_type": "code",
   "execution_count": null,
   "id": "0e68d113-f2a2-44da-b4f1-be0d2b6782de",
   "metadata": {},
   "outputs": [],
   "source": []
  }
 ],
 "metadata": {
  "kernelspec": {
   "display_name": "Python 3 (ipykernel)",
   "language": "python",
   "name": "python3"
  },
  "language_info": {
   "codemirror_mode": {
    "name": "ipython",
    "version": 3
   },
   "file_extension": ".py",
   "mimetype": "text/x-python",
   "name": "python",
   "nbconvert_exporter": "python",
   "pygments_lexer": "ipython3",
   "version": "3.11.5"
  }
 },
 "nbformat": 4,
 "nbformat_minor": 5
}
