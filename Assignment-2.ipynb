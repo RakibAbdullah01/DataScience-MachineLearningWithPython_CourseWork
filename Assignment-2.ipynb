{
  "metadata": {
    "kernelspec": {
      "language": "python",
      "display_name": "Python 3",
      "name": "python3"
    },
    "language_info": {
      "name": "python",
      "version": "3.10.13",
      "mimetype": "text/x-python",
      "codemirror_mode": {
        "name": "ipython",
        "version": 3
      },
      "pygments_lexer": "ipython3",
      "nbconvert_exporter": "python",
      "file_extension": ".py"
    },
    "kaggle": {
      "accelerator": "none",
      "dataSources": [],
      "dockerImageVersionId": 30664,
      "isInternetEnabled": false,
      "language": "python",
      "sourceType": "notebook",
      "isGpuEnabled": false
    },
    "colab": {
      "name": "notebook885cbc0d81",
      "provenance": [],
      "include_colab_link": true
    }
  },
  "nbformat_minor": 0,
  "nbformat": 4,
  "cells": [
    {
      "cell_type": "markdown",
      "metadata": {
        "id": "view-in-github",
        "colab_type": "text"
      },
      "source": [
        "<a href=\"https://colab.research.google.com/github/RakibAbdullah01/DataScience-MachineLearningWithPython_CourseWork/blob/main/Assignment-2.ipynb\" target=\"_parent\"><img src=\"https://colab.research.google.com/assets/colab-badge.svg\" alt=\"Open In Colab\"/></a>"
      ]
    },
    {
      "cell_type": "markdown",
      "source": [
        "**Variables**"
      ],
      "metadata": {
        "id": "o78a-4agLrBu"
      }
    },
    {
      "cell_type": "code",
      "source": [
        "# 1. Write a program that swaps the values of two variables.\n",
        "a = input(\"Enter Value of b\")\n",
        "b = input(\"Enter Value of b\")\n",
        "print('Value of a before swap: ',a)\n",
        "print('Value of b before swap: ',b)\n",
        "a,b=b,a #Swaping\n",
        "print('Value of a after swap: ',a)\n",
        "print('Value of b after swap: ',b)"
      ],
      "metadata": {
        "_uuid": "8f2839f25d086af736a60e9eeb907d3b93b6e0e5",
        "_cell_guid": "b1076dfc-b9ad-4769-8c92-a6c4dae69d19",
        "trusted": true,
        "id": "CyhUoOP2LrBy"
      },
      "execution_count": null,
      "outputs": []
    },
    {
      "cell_type": "code",
      "source": [
        "# 2. Write a program that calculates the area of a rectangle given its length and width.\n",
        "length = int(input('Enter Length of the Rectangle: '))\n",
        "width = int(input('Enter Width of the Rectangle: '))\n",
        "area = 0.5 * length * width\n",
        "print('Area of Rectangle is : ', area)"
      ],
      "metadata": {
        "trusted": true,
        "id": "PYWIQYvsLrBz"
      },
      "execution_count": null,
      "outputs": []
    },
    {
      "cell_type": "code",
      "source": [
        "#3. Write a program that converts temperature from Fahrenheit to Celsius.\n",
        "fahrenheit = float(input('Enter Fahrenheit Value: '))\n",
        "celsius = (fahrenheit - 32) * 5/9\n",
        "print('in Celsious: ', celsius)"
      ],
      "metadata": {
        "trusted": true,
        "id": "XG4CMmssLrB0"
      },
      "execution_count": null,
      "outputs": []
    },
    {
      "cell_type": "code",
      "source": [
        "#4. Write a program that calculates the volume of a sphere given its radius.\n",
        "radius = float(input('Enter Radius of Sphere: '))\n",
        "volume = 4/3 * 3.1416 * radius * radius * radius\n",
        "print('Volume is: ', volume)"
      ],
      "metadata": {
        "trusted": true,
        "id": "6zerOdjVLrB0"
      },
      "execution_count": null,
      "outputs": []
    },
    {
      "cell_type": "code",
      "source": [
        "#5. Write a program that finds the average of three numbers.\n",
        "num1 = float(input(\"Enter First Number: \"))\n",
        "num2 = float(input(\"Enter Second Number: \"))\n",
        "num3 = float(input(\"Enter Third Number: \"))\n",
        "average = (num1+num2+num3)/3\n",
        "print('Average: ',average )"
      ],
      "metadata": {
        "trusted": true,
        "id": "PtwGOcBxLrB0"
      },
      "execution_count": null,
      "outputs": []
    },
    {
      "cell_type": "markdown",
      "source": [
        "**If-elif-else**"
      ],
      "metadata": {
        "id": "7DxqqGgPLrB1"
      }
    },
    {
      "cell_type": "code",
      "source": [
        "#6. Write a program that determines if a number is even or odd.\n",
        "num = float(input(\"Enter a Number: \"))\n",
        "if(num==0):\n",
        "    print('The Number is Zero')\n",
        "else:\n",
        "    if(num%2==0):\n",
        "        print('The Number is Even')\n",
        "    else:\n",
        "        print('The Number is Odd')"
      ],
      "metadata": {
        "trusted": true,
        "id": "XMejie-ILrB1"
      },
      "execution_count": null,
      "outputs": []
    },
    {
      "cell_type": "code",
      "source": [
        "#7. Write a program that finds the maximum of three numbers.\n",
        "num1 = float(input(\"Enter First Number: \"))\n",
        "num2 = float(input(\"Enter Second Number: \"))\n",
        "num3 = float(input(\"Enter Third Number: \"))\n",
        "max = 0\n",
        "if(num1 >= num2 ) and ( num1 >= num3):\n",
        "    print('Max is: ',num1)\n",
        "elif(num2 >= num1 ) and ( num2 >= num3 ):\n",
        "    print('Max is: ',num2)\n",
        "else:\n",
        "    print('Max is: ',num3)"
      ],
      "metadata": {
        "trusted": true,
        "id": "dAvhMnffLrB2"
      },
      "execution_count": null,
      "outputs": []
    },
    {
      "cell_type": "code",
      "source": [
        "#8. Write a program that determines if a year is a leap year or not.\n",
        "year = int(input(\"Enter a Year: \"))\n",
        "if (year % 400 == 0) and (year % 100 == 0):\n",
        "    print(\"{} is a leap year\".format(year))\n",
        "elif (year % 4 ==0) and (year % 100 != 0):\n",
        "    print(\"{} is a leap year\".format(year))\n",
        "else:\n",
        "    print(\"{} is not a leap year\".format(year))"
      ],
      "metadata": {
        "trusted": true,
        "id": "GPo_c7jFLrB2"
      },
      "execution_count": null,
      "outputs": []
    },
    {
      "cell_type": "code",
      "source": [
        "#9. Write a program that determines if a number is positive, negative, or zero.\n",
        "num = float(input(\"Enter a Number: \"))\n",
        "if(num==0):\n",
        "    print('The Number is Zero')\n",
        "else:\n",
        "    if(num>0):\n",
        "        print('The Number is Positive')\n",
        "    else:\n",
        "        print('The Number is Negative')"
      ],
      "metadata": {
        "trusted": true,
        "id": "BKHayrlOLrB2"
      },
      "execution_count": null,
      "outputs": []
    },
    {
      "cell_type": "code",
      "source": [
        "#10. Write a program that calculates the grade based on a given percentage.\n",
        "percentage = float(input(\"Enter Percentage: \"))\n",
        "\n",
        "if percentage >= 80 and percentage <= 100:\n",
        "    print(\"Your Grade is A+\")\n",
        "elif percentage >= 70 and percentage < 80:\n",
        "    print(\"Your Grade is A\")\n",
        "elif percentage >= 60 and percentage < 70:\n",
        "    print(\"Your Grade is A-\")\n",
        "elif percentage >= 50 and percentage < 60:\n",
        "    print(\"Your Grade is B\")\n",
        "elif percentage >= 40 and percentage < 50:\n",
        "    print(\"Your Grade is C\")\n",
        "elif percentage >= 33 and percentage < 40:\n",
        "    print(\"Your Grade is D\")\n",
        "elif percentage >= 0 and percentage < 33:\n",
        "    print(\"Your are Fail!\")\n",
        "else:\n",
        "    print(\"Invalid Input!\")"
      ],
      "metadata": {
        "trusted": true,
        "id": "J-4pRwHKLrB2"
      },
      "execution_count": null,
      "outputs": []
    },
    {
      "cell_type": "markdown",
      "source": [
        "**For Loop**"
      ],
      "metadata": {
        "id": "TGCK7RJxLrB3"
      }
    },
    {
      "cell_type": "code",
      "source": [
        "#11. Write a program that prints the first `n` natural numbers.\n",
        "n = int(input(\"Enter a Number: \"))\n",
        "for x in range(n):\n",
        "    print(x+1)"
      ],
      "metadata": {
        "trusted": true,
        "id": "jCi_-CTrLrB3"
      },
      "execution_count": null,
      "outputs": []
    },
    {
      "cell_type": "code",
      "source": [
        "#12. Write a program that calculates the factorial of a number.\n",
        "n = int(input(\"Enter a number: \"))\n",
        "f = 1\n",
        "for i in range(n, 0, -1):\n",
        "    f *= i\n",
        "\n",
        "print(\"Factorial is\", f)"
      ],
      "metadata": {
        "trusted": true,
        "id": "3wuwE8rXLrB3"
      },
      "execution_count": null,
      "outputs": []
    },
    {
      "cell_type": "code",
      "source": [
        "#13. Write a program that generates a Fibonacci sequence of length `n`.\n",
        "n = int(input(\"Enter a number: \"))\n",
        "first = 0\n",
        "second = 1\n",
        "\n",
        "for x in range(1,n):\n",
        "    third = first + second\n",
        "    print(third)\n",
        "    first,second=second,third"
      ],
      "metadata": {
        "trusted": true,
        "id": "K1z2woByLrB3"
      },
      "execution_count": null,
      "outputs": []
    },
    {
      "cell_type": "code",
      "source": [
        "#14. Write a program that checks if a given number is prime or not.\n",
        "num = int(input(\"Enter a number: \"))\n",
        "if num > 1:\n",
        "    for i in range(2, int(num/2)+1):\n",
        "        if (num % i) == 0:\n",
        "            print(num, \"is not a prime number\")\n",
        "            break\n",
        "    else:\n",
        "        print(num, \"is a prime number\")\n",
        "else:\n",
        "    print(num, \"is not a prime number\")"
      ],
      "metadata": {
        "trusted": true,
        "id": "H9TLqUc3LrB3"
      },
      "execution_count": null,
      "outputs": []
    },
    {
      "cell_type": "code",
      "source": [
        "#15. Write a program that prints the multiplication table of a given number.\n",
        "number = int(input (\"Enter a number: \"))\n",
        "for count in range(1, 11):\n",
        "   print (number, 'x', count, '=', number * count)"
      ],
      "metadata": {
        "trusted": true,
        "id": "gIpUSCxtLrB4"
      },
      "execution_count": null,
      "outputs": []
    },
    {
      "cell_type": "markdown",
      "source": [
        "**While Loop**"
      ],
      "metadata": {
        "id": "8dp0PxnWLrB4"
      }
    },
    {
      "cell_type": "code",
      "source": [
        "#16. Write a program that finds the sum of all even numbers between 1 and `n`.\n",
        "maximum = int(input(\" Enter a Number : \"))\n",
        "total = 0\n",
        "number = 1\n",
        "\n",
        "while number <= maximum:\n",
        "    if(number % 2 == 0):\n",
        "        print(\"{0}\".format(number))\n",
        "        total = total + number\n",
        "    number = number + 1\n",
        "\n",
        "print(\"The Sum of Even Numbers from 1 to n = {0}\".format(total))"
      ],
      "metadata": {
        "trusted": true,
        "id": "RKe4JEO3LrB4"
      },
      "execution_count": null,
      "outputs": []
    },
    {
      "cell_type": "code",
      "source": [
        "#17. Write a program that reverses a given number.\n",
        "number = int(input(\"Enter a number: \"))\n",
        "\n",
        "revs_number = 0\n",
        "\n",
        "while (number > 0):\n",
        "    remainder = number % 10\n",
        "    revs_number = (revs_number * 10) + remainder\n",
        "    number = number // 10\n",
        "\n",
        "print(\"The reverse number is :\",revs_number)"
      ],
      "metadata": {
        "trusted": true,
        "id": "P4_rXuWyLrB4"
      },
      "execution_count": null,
      "outputs": []
    },
    {
      "cell_type": "code",
      "source": [
        "#18. Write a program that checks if a given string, is a palindrome.\n",
        "str = input(\"Enter the string\")\n",
        "l = len(str)\n",
        "p = l-1\n",
        "index = 0\n",
        "while index < p:\n",
        "    if str[index] == str[p]:\n",
        "        index = index + 1\n",
        "        p = p-1\n",
        "        print(\"String is a palindrome\")\n",
        "        break\n",
        "    else:\n",
        "        print(\"string is not a palindrome\")\n",
        "        break"
      ],
      "metadata": {
        "execution": {
          "iopub.status.busy": "2024-03-06T19:08:12.794356Z",
          "iopub.execute_input": "2024-03-06T19:08:12.794827Z",
          "iopub.status.idle": "2024-03-06T19:08:14.995173Z",
          "shell.execute_reply.started": "2024-03-06T19:08:12.794788Z",
          "shell.execute_reply": "2024-03-06T19:08:14.99395Z"
        },
        "trusted": true,
        "id": "BcODMmWZLrB4",
        "outputId": "a53bc0d6-7f71-4226-c201-9dac251f47cb"
      },
      "execution_count": null,
      "outputs": [
        {
          "output_type": "stream",
          "name": "stdin",
          "text": "Enter the string rakib\n"
        },
        {
          "name": "stdout",
          "text": "string is not a palindrome\n",
          "output_type": "stream"
        }
      ]
    },
    {
      "cell_type": "code",
      "source": [
        "#19. Write a program that generates a random number and allows the user to guess it.\n",
        "import random\n",
        "n = random.randrange(1,10)\n",
        "guess = int(input(\"Enter a number: \"))\n",
        "while n!= guess:\n",
        "    if guess < n:\n",
        "        print(\"Too low\")\n",
        "        guess = int(input(\"Enter number again: \"))\n",
        "    elif guess > n:\n",
        "        print(\"Too high!\")\n",
        "        guess = int(input(\"Enter number again: \"))\n",
        "    else:\n",
        "      break\n",
        "print(\"you guessed it right!!\")"
      ],
      "metadata": {
        "execution": {
          "iopub.status.busy": "2024-03-06T19:09:32.191407Z",
          "iopub.execute_input": "2024-03-06T19:09:32.192014Z",
          "iopub.status.idle": "2024-03-06T19:09:42.452764Z",
          "shell.execute_reply.started": "2024-03-06T19:09:32.191966Z",
          "shell.execute_reply": "2024-03-06T19:09:42.451496Z"
        },
        "trusted": true,
        "id": "nwe4jzv5LrB5",
        "outputId": "6de4b9d2-2192-4e6a-8966-4b59a2ddcd0c"
      },
      "execution_count": null,
      "outputs": [
        {
          "output_type": "stream",
          "name": "stdin",
          "text": "Enter any number:  4\n"
        },
        {
          "name": "stdout",
          "text": "Too high!\n",
          "output_type": "stream"
        },
        {
          "output_type": "stream",
          "name": "stdin",
          "text": "Enter number again:  3\n"
        },
        {
          "name": "stdout",
          "text": "Too high!\n",
          "output_type": "stream"
        },
        {
          "output_type": "stream",
          "name": "stdin",
          "text": "Enter number again:  2\n"
        },
        {
          "name": "stdout",
          "text": "Too high!\n",
          "output_type": "stream"
        },
        {
          "output_type": "stream",
          "name": "stdin",
          "text": "Enter number again:  1\n"
        },
        {
          "name": "stdout",
          "text": "you guessed it right!!\n",
          "output_type": "stream"
        }
      ]
    },
    {
      "cell_type": "code",
      "source": [
        "#20. Write a program that finds the greatest common divisor (GCD) of two numbers.\n",
        "p = x = int(input(\"Enter a number: \"))\n",
        "q = y = int(input(\"Enter another number: \"))\n",
        "while x != y:\n",
        "  if x > y:\n",
        "    x = x - y\n",
        "  else:\n",
        "    y = y - x\n",
        "\n",
        "print(\"GCD of\", p, \"and\", q, \"is:\", x)"
      ],
      "metadata": {
        "execution": {
          "iopub.status.busy": "2024-03-06T19:11:48.757634Z",
          "iopub.execute_input": "2024-03-06T19:11:48.758111Z",
          "iopub.status.idle": "2024-03-06T19:11:55.236263Z",
          "shell.execute_reply.started": "2024-03-06T19:11:48.758077Z",
          "shell.execute_reply": "2024-03-06T19:11:55.234575Z"
        },
        "trusted": true,
        "id": "sz-wOmVILrB5",
        "outputId": "67aa666d-afc4-4eed-dd64-1da7b59a3d8f"
      },
      "execution_count": null,
      "outputs": [
        {
          "output_type": "stream",
          "name": "stdin",
          "text": "Enter a number:  20\nEnter another number:  25\n"
        },
        {
          "name": "stdout",
          "text": "GCD of 20 and 25 is: 5\n",
          "output_type": "stream"
        }
      ]
    }
  ]
}