{
  "metadata": {
    "kernelspec": {
      "language": "python",
      "display_name": "Python 3",
      "name": "python3"
    },
    "language_info": {
      "name": "python",
      "version": "3.10.13",
      "mimetype": "text/x-python",
      "codemirror_mode": {
        "name": "ipython",
        "version": 3
      },
      "pygments_lexer": "ipython3",
      "nbconvert_exporter": "python",
      "file_extension": ".py"
    },
    "kaggle": {
      "accelerator": "none",
      "dataSources": [],
      "dockerImageVersionId": 30664,
      "isInternetEnabled": false,
      "language": "python",
      "sourceType": "notebook",
      "isGpuEnabled": false
    },
    "colab": {
      "name": "notebook885cbc0d81",
      "provenance": [],
      "include_colab_link": true
    }
  },
  "nbformat_minor": 0,
  "nbformat": 4,
  "cells": [
    {
      "cell_type": "markdown",
      "metadata": {
        "id": "view-in-github",
        "colab_type": "text"
      },
      "source": [
        "<a href=\"https://colab.research.google.com/github/RakibAbdullah01/DataScience-MachineLearningWithPython_CourseWork/blob/main/Assignment-2.ipynb\" target=\"_parent\"><img src=\"https://colab.research.google.com/assets/colab-badge.svg\" alt=\"Open In Colab\"/></a>"
      ]
    },
    {
      "cell_type": "markdown",
      "source": [
        "**Variables**"
      ],
      "metadata": {
        "id": "o78a-4agLrBu"
      }
    },
    {
      "cell_type": "code",
      "source": [
        "# 1. Write a program that swaps the values of two variables.\n",
        "a = input(\"Enter Value of a\")\n",
        "b = input(\"Enter Value of b\")\n",
        "print('Value of a before swap: ',a)\n",
        "print('Value of b before swap: ',b)\n",
        "a,b=b,a #Swaping\n",
        "print('Value of a after swap: ',a)\n",
        "print('Value of b after swap: ',b)"
      ],
      "metadata": {
        "_uuid": "8f2839f25d086af736a60e9eeb907d3b93b6e0e5",
        "_cell_guid": "b1076dfc-b9ad-4769-8c92-a6c4dae69d19",
        "trusted": true,
        "colab": {
          "base_uri": "https://localhost:8080/"
        },
        "id": "CyhUoOP2LrBy",
        "outputId": "d163b29a-b90c-4868-e7f8-fa1be6738b82"
      },
      "execution_count": 2,
      "outputs": [
        {
          "output_type": "stream",
          "name": "stdout",
          "text": [
            "Enter Value of a5\n",
            "Enter Value of b6\n",
            "Value of a before swap:  5\n",
            "Value of b before swap:  6\n",
            "Value of a after swap:  6\n",
            "Value of b after swap:  5\n"
          ]
        }
      ]
    },
    {
      "cell_type": "code",
      "source": [
        "# 2. Write a program that calculates the area of a rectangle given its length and width.\n",
        "length = int(input('Enter Length of the Rectangle: '))\n",
        "width = int(input('Enter Width of the Rectangle: '))\n",
        "area = 0.5 * length * width\n",
        "print('Area of Rectangle is : ', area)"
      ],
      "metadata": {
        "trusted": true,
        "colab": {
          "base_uri": "https://localhost:8080/"
        },
        "id": "PYWIQYvsLrBz",
        "outputId": "d691d0be-d08c-448b-fe90-f39405b766c7"
      },
      "execution_count": 3,
      "outputs": [
        {
          "output_type": "stream",
          "name": "stdout",
          "text": [
            "Enter Length of the Rectangle: 45\n",
            "Enter Width of the Rectangle: 2\n",
            "Area of Rectangle is :  45.0\n"
          ]
        }
      ]
    },
    {
      "cell_type": "code",
      "source": [
        "#3. Write a program that converts temperature from Fahrenheit to Celsius.\n",
        "fahrenheit = float(input('Enter Fahrenheit Value: '))\n",
        "celsius = (fahrenheit - 32) * 5/9\n",
        "print('in Celsious: ', celsius)"
      ],
      "metadata": {
        "trusted": true,
        "colab": {
          "base_uri": "https://localhost:8080/"
        },
        "id": "XG4CMmssLrB0",
        "outputId": "eb768ebd-f63e-4ef3-917f-7aaa3bb89bfc"
      },
      "execution_count": 4,
      "outputs": [
        {
          "output_type": "stream",
          "name": "stdout",
          "text": [
            "Enter Fahrenheit Value: 100\n",
            "in Celsious:  37.77777777777778\n"
          ]
        }
      ]
    },
    {
      "cell_type": "code",
      "source": [
        "#4. Write a program that calculates the volume of a sphere given its radius.\n",
        "radius = float(input('Enter Radius of Sphere: '))\n",
        "volume = 4/3 * 3.1416 * radius * radius * radius\n",
        "print('Volume is: ', volume)"
      ],
      "metadata": {
        "trusted": true,
        "colab": {
          "base_uri": "https://localhost:8080/"
        },
        "id": "6zerOdjVLrB0",
        "outputId": "53d540ab-0d5e-4bcc-940c-009d4c3d823e"
      },
      "execution_count": 5,
      "outputs": [
        {
          "output_type": "stream",
          "name": "stdout",
          "text": [
            "Enter Radius of Sphere: 3\n",
            "Volume is:  113.09759999999997\n"
          ]
        }
      ]
    },
    {
      "cell_type": "code",
      "source": [
        "3#5. Write a program that finds the average of three numbers.\n",
        "num1 = float(input(\"Enter First Number: \"))\n",
        "num2 = float(input(\"Enter Second Number: \"))\n",
        "num3 = float(input(\"Enter Third Number: \"))\n",
        "average = (num1+num2+num3)/3\n",
        "print('Average: ',average )"
      ],
      "metadata": {
        "trusted": true,
        "colab": {
          "base_uri": "https://localhost:8080/"
        },
        "id": "PtwGOcBxLrB0",
        "outputId": "27de97de-dd06-4e1a-d3db-bf749158e296"
      },
      "execution_count": 6,
      "outputs": [
        {
          "output_type": "stream",
          "name": "stdout",
          "text": [
            "Enter First Number: 23\n",
            "Enter Second Number: 2\n",
            "Enter Third Number: 2\n",
            "Average:  9.0\n"
          ]
        }
      ]
    },
    {
      "cell_type": "markdown",
      "source": [
        "**If-elif-else**"
      ],
      "metadata": {
        "id": "7DxqqGgPLrB1"
      }
    },
    {
      "cell_type": "code",
      "source": [
        "#6. Write a program that determines if a number is even or odd.\n",
        "num = float(input(\"Enter a Number: \"))\n",
        "if(num==0):\n",
        "    print('The Number is Zero')\n",
        "else:\n",
        "    if(num%2==0):\n",
        "        print('The Number is Even')\n",
        "    else:\n",
        "        print('The Number is Odd')"
      ],
      "metadata": {
        "trusted": true,
        "colab": {
          "base_uri": "https://localhost:8080/"
        },
        "id": "XMejie-ILrB1",
        "outputId": "1184dfee-34dd-41f6-fa7c-566d8a3cc20b"
      },
      "execution_count": 7,
      "outputs": [
        {
          "output_type": "stream",
          "name": "stdout",
          "text": [
            "Enter a Number: 2\n",
            "The Number is Even\n"
          ]
        }
      ]
    },
    {
      "cell_type": "code",
      "source": [
        "#7. Write a program that finds the maximum of three numbers.\n",
        "num1 = float(input(\"Enter First Number: \"))\n",
        "num2 = float(input(\"Enter Second Number: \"))\n",
        "num3 = float(input(\"Enter Third Number: \"))\n",
        "max = 0\n",
        "if(num1 >= num2 ) and ( num1 >= num3):\n",
        "    print('Max is: ',num1)\n",
        "elif(num2 >= num1 ) and ( num2 >= num3 ):\n",
        "    print('Max is: ',num2)\n",
        "else:\n",
        "    print('Max is: ',num3)"
      ],
      "metadata": {
        "trusted": true,
        "colab": {
          "base_uri": "https://localhost:8080/"
        },
        "id": "dAvhMnffLrB2",
        "outputId": "46e13a50-1c13-4a26-826c-4230da0c9d21"
      },
      "execution_count": 8,
      "outputs": [
        {
          "output_type": "stream",
          "name": "stdout",
          "text": [
            "Enter First Number: 13\n",
            "Enter Second Number: 21\n",
            "Enter Third Number: 133\n",
            "Max is:  133.0\n"
          ]
        }
      ]
    },
    {
      "cell_type": "code",
      "source": [
        "#8. Write a program that determines if a year is a leap year or not.\n",
        "year = int(input(\"Enter a Year: \"))\n",
        "if (year % 400 == 0) and (year % 100 == 0):\n",
        "    print(\"{} is a leap year\".format(year))\n",
        "elif (year % 4 ==0) and (year % 100 != 0):\n",
        "    print(\"{} is a leap year\".format(year))\n",
        "else:\n",
        "    print(\"{} is not a leap year\".format(year))"
      ],
      "metadata": {
        "trusted": true,
        "colab": {
          "base_uri": "https://localhost:8080/"
        },
        "id": "GPo_c7jFLrB2",
        "outputId": "a87f2e61-a14c-4151-8f86-02a429c89c05"
      },
      "execution_count": 10,
      "outputs": [
        {
          "output_type": "stream",
          "name": "stdout",
          "text": [
            "Enter a Year: 2000\n",
            "2000 is a leap year\n"
          ]
        }
      ]
    },
    {
      "cell_type": "code",
      "source": [
        "#9. Write a program that determines if a number is positive, negative, or zero.\n",
        "num = float(input(\"Enter a Number: \"))\n",
        "if(num==0):\n",
        "    print('The Number is Zero')\n",
        "else:\n",
        "    if(num>0):\n",
        "        print('The Number is Positive')\n",
        "    else:\n",
        "        print('The Number is Negative')"
      ],
      "metadata": {
        "trusted": true,
        "colab": {
          "base_uri": "https://localhost:8080/"
        },
        "id": "BKHayrlOLrB2",
        "outputId": "5a4bed76-7a63-4b37-99d7-7e5ab0ec994e"
      },
      "execution_count": 11,
      "outputs": [
        {
          "output_type": "stream",
          "name": "stdout",
          "text": [
            "Enter a Number: 24\n",
            "The Number is Positive\n"
          ]
        }
      ]
    },
    {
      "cell_type": "code",
      "source": [
        "#10. Write a program that calculates the grade based on a given percentage.\n",
        "percentage = float(input(\"Enter Percentage: \"))\n",
        "\n",
        "if percentage >= 80 and percentage <= 100:\n",
        "    print(\"Your Grade is A+\")\n",
        "elif percentage >= 70 and percentage < 80:\n",
        "    print(\"Your Grade is A\")\n",
        "elif percentage >= 60 and percentage < 70:\n",
        "    print(\"Your Grade is A-\")\n",
        "elif percentage >= 50 and percentage < 60:\n",
        "    print(\"Your Grade is B\")\n",
        "elif percentage >= 40 and percentage < 50:\n",
        "    print(\"Your Grade is C\")\n",
        "elif percentage >= 33 and percentage < 40:\n",
        "    print(\"Your Grade is D\")\n",
        "elif percentage >= 0 and percentage < 33:\n",
        "    print(\"Your are Fail!\")\n",
        "else:\n",
        "    print(\"Invalid Input!\")"
      ],
      "metadata": {
        "trusted": true,
        "colab": {
          "base_uri": "https://localhost:8080/"
        },
        "id": "J-4pRwHKLrB2",
        "outputId": "cb40a949-6a04-4795-f424-f1df5246c823"
      },
      "execution_count": 12,
      "outputs": [
        {
          "output_type": "stream",
          "name": "stdout",
          "text": [
            "Enter Percentage: 67\n",
            "Your Grade is A-\n"
          ]
        }
      ]
    },
    {
      "cell_type": "markdown",
      "source": [
        "**For Loop**"
      ],
      "metadata": {
        "id": "TGCK7RJxLrB3"
      }
    },
    {
      "cell_type": "code",
      "source": [
        "#11. Write a program that prints the first `n` natural numbers.\n",
        "n = int(input(\"Enter a Number: \"))\n",
        "for x in range(n):\n",
        "    print(x+1)"
      ],
      "metadata": {
        "trusted": true,
        "colab": {
          "base_uri": "https://localhost:8080/"
        },
        "id": "jCi_-CTrLrB3",
        "outputId": "7b1e2d6e-6c3e-40ac-e388-a6e8702347da"
      },
      "execution_count": 13,
      "outputs": [
        {
          "output_type": "stream",
          "name": "stdout",
          "text": [
            "Enter a Number: 45\n",
            "1\n",
            "2\n",
            "3\n",
            "4\n",
            "5\n",
            "6\n",
            "7\n",
            "8\n",
            "9\n",
            "10\n",
            "11\n",
            "12\n",
            "13\n",
            "14\n",
            "15\n",
            "16\n",
            "17\n",
            "18\n",
            "19\n",
            "20\n",
            "21\n",
            "22\n",
            "23\n",
            "24\n",
            "25\n",
            "26\n",
            "27\n",
            "28\n",
            "29\n",
            "30\n",
            "31\n",
            "32\n",
            "33\n",
            "34\n",
            "35\n",
            "36\n",
            "37\n",
            "38\n",
            "39\n",
            "40\n",
            "41\n",
            "42\n",
            "43\n",
            "44\n",
            "45\n"
          ]
        }
      ]
    },
    {
      "cell_type": "code",
      "source": [
        "#12. Write a program that calculates the factorial of a number.\n",
        "n = int(input(\"Enter a number: \"))\n",
        "f = 1\n",
        "for i in range(n, 0, -1):\n",
        "    f *= i\n",
        "\n",
        "print(\"Factorial is\", f)"
      ],
      "metadata": {
        "trusted": true,
        "colab": {
          "base_uri": "https://localhost:8080/"
        },
        "id": "3wuwE8rXLrB3",
        "outputId": "3fa756ef-7392-418c-e4d5-1794dcab001d"
      },
      "execution_count": 14,
      "outputs": [
        {
          "output_type": "stream",
          "name": "stdout",
          "text": [
            "Enter a number: 54\n",
            "Factorial is 230843697339241380472092742683027581083278564571807941132288000000000000\n"
          ]
        }
      ]
    },
    {
      "cell_type": "code",
      "source": [
        "#13. Write a program that generates a Fibonacci sequence of length `n`.\n",
        "n = int(input(\"Enter a number: \"))\n",
        "first = 0\n",
        "second = 1\n",
        "\n",
        "for x in range(1,n):\n",
        "    third = first + second\n",
        "    print(third)\n",
        "    first,second=second,third"
      ],
      "metadata": {
        "trusted": true,
        "colab": {
          "base_uri": "https://localhost:8080/"
        },
        "id": "K1z2woByLrB3",
        "outputId": "8feb1a20-405c-45d7-f783-89a0011e4c6b"
      },
      "execution_count": 15,
      "outputs": [
        {
          "output_type": "stream",
          "name": "stdout",
          "text": [
            "Enter a number: 34\n",
            "1\n",
            "2\n",
            "3\n",
            "5\n",
            "8\n",
            "13\n",
            "21\n",
            "34\n",
            "55\n",
            "89\n",
            "144\n",
            "233\n",
            "377\n",
            "610\n",
            "987\n",
            "1597\n",
            "2584\n",
            "4181\n",
            "6765\n",
            "10946\n",
            "17711\n",
            "28657\n",
            "46368\n",
            "75025\n",
            "121393\n",
            "196418\n",
            "317811\n",
            "514229\n",
            "832040\n",
            "1346269\n",
            "2178309\n",
            "3524578\n",
            "5702887\n"
          ]
        }
      ]
    },
    {
      "cell_type": "code",
      "source": [
        "#14. Write a program that checks if a given number is prime or not.\n",
        "num = int(input(\"Enter a number: \"))\n",
        "if num > 1:\n",
        "    for i in range(2, int(num/2)+1):\n",
        "        if (num % i) == 0:\n",
        "            print(num, \"is not a prime number\")\n",
        "            break\n",
        "    else:\n",
        "        print(num, \"is a prime number\")\n",
        "else:\n",
        "    print(num, \"is not a prime number\")"
      ],
      "metadata": {
        "trusted": true,
        "colab": {
          "base_uri": "https://localhost:8080/"
        },
        "id": "H9TLqUc3LrB3",
        "outputId": "a6a66903-1d80-49cf-a33c-a7aeb48746d4"
      },
      "execution_count": 16,
      "outputs": [
        {
          "output_type": "stream",
          "name": "stdout",
          "text": [
            "Enter a number: 65\n",
            "65 is not a prime number\n"
          ]
        }
      ]
    },
    {
      "cell_type": "code",
      "source": [
        "#15. Write a program that prints the multiplication table of a given number.\n",
        "number = int(input (\"Enter a number: \"))\n",
        "for count in range(1, 11):\n",
        "   print (number, 'x', count, '=', number * count)"
      ],
      "metadata": {
        "trusted": true,
        "colab": {
          "base_uri": "https://localhost:8080/"
        },
        "id": "gIpUSCxtLrB4",
        "outputId": "f9a49a77-b8df-436d-ecbd-33785229c24f"
      },
      "execution_count": 17,
      "outputs": [
        {
          "output_type": "stream",
          "name": "stdout",
          "text": [
            "Enter a number: 35\n",
            "35 x 1 = 35\n",
            "35 x 2 = 70\n",
            "35 x 3 = 105\n",
            "35 x 4 = 140\n",
            "35 x 5 = 175\n",
            "35 x 6 = 210\n",
            "35 x 7 = 245\n",
            "35 x 8 = 280\n",
            "35 x 9 = 315\n",
            "35 x 10 = 350\n"
          ]
        }
      ]
    },
    {
      "cell_type": "markdown",
      "source": [
        "**While Loop**"
      ],
      "metadata": {
        "id": "8dp0PxnWLrB4"
      }
    },
    {
      "cell_type": "code",
      "source": [
        "#16. Write a program that finds the sum of all even numbers between 1 and `n`.\n",
        "maximum = int(input(\" Enter a Number : \"))\n",
        "total = 0\n",
        "number = 1\n",
        "\n",
        "while number <= maximum:\n",
        "    if(number % 2 == 0):\n",
        "        print(\"{0}\".format(number))\n",
        "        total = total + number\n",
        "    number = number + 1\n",
        "\n",
        "print(\"The Sum of Even Numbers from 1 to n = {0}\".format(total))"
      ],
      "metadata": {
        "trusted": true,
        "colab": {
          "base_uri": "https://localhost:8080/"
        },
        "id": "RKe4JEO3LrB4",
        "outputId": "d0a77102-1c71-49b0-ff24-cb1b5c6cffbc"
      },
      "execution_count": 18,
      "outputs": [
        {
          "output_type": "stream",
          "name": "stdout",
          "text": [
            " Enter a Number : 35\n",
            "2\n",
            "4\n",
            "6\n",
            "8\n",
            "10\n",
            "12\n",
            "14\n",
            "16\n",
            "18\n",
            "20\n",
            "22\n",
            "24\n",
            "26\n",
            "28\n",
            "30\n",
            "32\n",
            "34\n",
            "The Sum of Even Numbers from 1 to n = 306\n"
          ]
        }
      ]
    },
    {
      "cell_type": "code",
      "source": [
        "#17. Write a program that reverses a given number.\n",
        "number = int(input(\"Enter a number: \"))\n",
        "\n",
        "revs_number = 0\n",
        "\n",
        "while (number > 0):\n",
        "    remainder = number % 10\n",
        "    revs_number = (revs_number * 10) + remainder\n",
        "    number = number // 10\n",
        "\n",
        "print(\"The reverse number is :\",revs_number)"
      ],
      "metadata": {
        "trusted": true,
        "colab": {
          "base_uri": "https://localhost:8080/"
        },
        "id": "P4_rXuWyLrB4",
        "outputId": "809fa20b-9fdc-4565-f914-9b202cbe7927"
      },
      "execution_count": 19,
      "outputs": [
        {
          "output_type": "stream",
          "name": "stdout",
          "text": [
            "Enter a number: 34\n",
            "The reverse number is : 43\n"
          ]
        }
      ]
    },
    {
      "cell_type": "code",
      "source": [
        "#18. Write a program that checks if a given string, is a palindrome.\n",
        "str = input(\"Enter the string\")\n",
        "l = len(str)\n",
        "p = l-1\n",
        "index = 0\n",
        "while index < p:\n",
        "    if str[index] == str[p]:\n",
        "        index = index + 1\n",
        "        p = p-1\n",
        "        print(\"String is a palindrome\")\n",
        "        break\n",
        "    else:\n",
        "        print(\"string is not a palindrome\")\n",
        "        break"
      ],
      "metadata": {
        "execution": {
          "iopub.status.busy": "2024-03-06T19:08:12.794356Z",
          "iopub.execute_input": "2024-03-06T19:08:12.794827Z",
          "iopub.status.idle": "2024-03-06T19:08:14.995173Z",
          "shell.execute_reply.started": "2024-03-06T19:08:12.794788Z",
          "shell.execute_reply": "2024-03-06T19:08:14.99395Z"
        },
        "trusted": true,
        "colab": {
          "base_uri": "https://localhost:8080/"
        },
        "id": "BcODMmWZLrB4",
        "outputId": "c73eb842-24ba-44e4-e740-f87492f09136"
      },
      "execution_count": 20,
      "outputs": [
        {
          "output_type": "stream",
          "name": "stdout",
          "text": [
            "Enter the stringeje\n",
            "String is a palindrome\n"
          ]
        }
      ]
    },
    {
      "cell_type": "code",
      "source": [
        "#19. Write a program that generates a random number and allows the user to guess it.\n",
        "import random\n",
        "n = random.randrange(1,10)\n",
        "guess = int(input(\"Enter a number: \"))\n",
        "while n!= guess:\n",
        "    if guess < n:\n",
        "        print(\"Too low\")\n",
        "        guess = int(input(\"Enter number again: \"))\n",
        "    elif guess > n:\n",
        "        print(\"Too high!\")\n",
        "        guess = int(input(\"Enter number again: \"))\n",
        "    else:\n",
        "      break\n",
        "print(\"you guessed it right!!\")"
      ],
      "metadata": {
        "execution": {
          "iopub.status.busy": "2024-03-06T19:09:32.191407Z",
          "iopub.execute_input": "2024-03-06T19:09:32.192014Z",
          "iopub.status.idle": "2024-03-06T19:09:42.452764Z",
          "shell.execute_reply.started": "2024-03-06T19:09:32.191966Z",
          "shell.execute_reply": "2024-03-06T19:09:42.451496Z"
        },
        "trusted": true,
        "colab": {
          "base_uri": "https://localhost:8080/"
        },
        "id": "nwe4jzv5LrB5",
        "outputId": "14b62d46-58d8-4855-ff05-c5b2cb95c8ae"
      },
      "execution_count": 21,
      "outputs": [
        {
          "output_type": "stream",
          "name": "stdout",
          "text": [
            "Enter a number: 6\n",
            "Too low\n",
            "Enter number again: 9\n",
            "Too high!\n",
            "Enter number again: 7\n",
            "Too low\n",
            "Enter number again: 8\n",
            "you guessed it right!!\n"
          ]
        }
      ]
    },
    {
      "cell_type": "code",
      "source": [
        "#20. Write a program that finds the greatest common divisor (GCD) of two numbers.\n",
        "p = x = int(input(\"Enter a number: \"))\n",
        "q = y = int(input(\"Enter another number: \"))\n",
        "while x != y:\n",
        "  if x > y:\n",
        "    x = x - y\n",
        "  else:\n",
        "    y = y - x\n",
        "\n",
        "print(\"GCD of\", p, \"and\", q, \"is:\", x)"
      ],
      "metadata": {
        "execution": {
          "iopub.status.busy": "2024-03-06T19:11:48.757634Z",
          "iopub.execute_input": "2024-03-06T19:11:48.758111Z",
          "iopub.status.idle": "2024-03-06T19:11:55.236263Z",
          "shell.execute_reply.started": "2024-03-06T19:11:48.758077Z",
          "shell.execute_reply": "2024-03-06T19:11:55.234575Z"
        },
        "trusted": true,
        "colab": {
          "base_uri": "https://localhost:8080/"
        },
        "id": "sz-wOmVILrB5",
        "outputId": "32f06f5e-98d2-413b-e5d6-64a0c4cdb85a"
      },
      "execution_count": 22,
      "outputs": [
        {
          "output_type": "stream",
          "name": "stdout",
          "text": [
            "Enter a number: 6\n",
            "Enter another number: 7\n",
            "GCD of 6 and 7 is: 1\n"
          ]
        }
      ]
    }
  ]
}